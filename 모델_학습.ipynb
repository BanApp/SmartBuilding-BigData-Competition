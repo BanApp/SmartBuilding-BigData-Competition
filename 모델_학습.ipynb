{
  "nbformat": 4,
  "nbformat_minor": 0,
  "metadata": {
    "colab": {
      "provenance": [],
      "collapsed_sections": [
        "1GPW4BpAgG7Y",
        "H769dZVbC5Xl",
        "j8EH1ZkXC4ZH",
        "RdQB1CpHFFFt",
        "K5Podgy43rq3",
        "5xHBzzi634ku",
        "QMBu_INf4SUZ",
        "VyRq57Ev4hvG",
        "WQ5kCn4gK4UX"
      ],
      "gpuType": "T4"
    },
    "kernelspec": {
      "name": "python3",
      "display_name": "Python 3"
    },
    "language_info": {
      "name": "python"
    },
    "accelerator": "GPU"
  },
  "cells": [
    {
      "cell_type": "code",
      "source": [
        "# 학습셋 파일 경로\n",
        "train_path = '/content/drive/MyDrive/DKU_DATA/train_data.csv'\n",
        "\n",
        "# 테스트셋 파일 경로\n",
        "test_path = '/content/drive/MyDrive/DKU_DATA/test_data.csv'"
      ],
      "metadata": {
        "id": "uicoUdnborvn"
      },
      "execution_count": 27,
      "outputs": []
    },
    {
      "cell_type": "markdown",
      "source": [
        "# 1. 설정 및 라이브러리 호출"
      ],
      "metadata": {
        "id": "nnqfPtqxO9FE"
      }
    },
    {
      "cell_type": "code",
      "source": [
        "!pip install catboost #catboost 설치"
      ],
      "metadata": {
        "id": "iZ1L0iebO8C4",
        "colab": {
          "base_uri": "https://localhost:8080/"
        },
        "outputId": "63051c68-628f-47a0-ac8f-3eb0d2b1c2db"
      },
      "execution_count": 1,
      "outputs": [
        {
          "output_type": "stream",
          "name": "stdout",
          "text": [
            "Looking in indexes: https://pypi.org/simple, https://us-python.pkg.dev/colab-wheels/public/simple/\n",
            "Collecting catboost\n",
            "  Downloading catboost-1.2-cp310-cp310-manylinux2014_x86_64.whl (98.6 MB)\n",
            "\u001b[2K     \u001b[90m━━━━━━━━━━━━━━━━━━━━━━━━━━━━━━━━━━━━━━━━\u001b[0m \u001b[32m98.6/98.6 MB\u001b[0m \u001b[31m10.8 MB/s\u001b[0m eta \u001b[36m0:00:00\u001b[0m\n",
            "\u001b[?25hRequirement already satisfied: graphviz in /usr/local/lib/python3.10/dist-packages (from catboost) (0.20.1)\n",
            "Requirement already satisfied: matplotlib in /usr/local/lib/python3.10/dist-packages (from catboost) (3.7.1)\n",
            "Requirement already satisfied: numpy>=1.16.0 in /usr/local/lib/python3.10/dist-packages (from catboost) (1.22.4)\n",
            "Requirement already satisfied: pandas>=0.24 in /usr/local/lib/python3.10/dist-packages (from catboost) (1.5.3)\n",
            "Requirement already satisfied: scipy in /usr/local/lib/python3.10/dist-packages (from catboost) (1.10.1)\n",
            "Requirement already satisfied: plotly in /usr/local/lib/python3.10/dist-packages (from catboost) (5.13.1)\n",
            "Requirement already satisfied: six in /usr/local/lib/python3.10/dist-packages (from catboost) (1.16.0)\n",
            "Requirement already satisfied: python-dateutil>=2.8.1 in /usr/local/lib/python3.10/dist-packages (from pandas>=0.24->catboost) (2.8.2)\n",
            "Requirement already satisfied: pytz>=2020.1 in /usr/local/lib/python3.10/dist-packages (from pandas>=0.24->catboost) (2022.7.1)\n",
            "Requirement already satisfied: contourpy>=1.0.1 in /usr/local/lib/python3.10/dist-packages (from matplotlib->catboost) (1.0.7)\n",
            "Requirement already satisfied: cycler>=0.10 in /usr/local/lib/python3.10/dist-packages (from matplotlib->catboost) (0.11.0)\n",
            "Requirement already satisfied: fonttools>=4.22.0 in /usr/local/lib/python3.10/dist-packages (from matplotlib->catboost) (4.39.3)\n",
            "Requirement already satisfied: kiwisolver>=1.0.1 in /usr/local/lib/python3.10/dist-packages (from matplotlib->catboost) (1.4.4)\n",
            "Requirement already satisfied: packaging>=20.0 in /usr/local/lib/python3.10/dist-packages (from matplotlib->catboost) (23.1)\n",
            "Requirement already satisfied: pillow>=6.2.0 in /usr/local/lib/python3.10/dist-packages (from matplotlib->catboost) (8.4.0)\n",
            "Requirement already satisfied: pyparsing>=2.3.1 in /usr/local/lib/python3.10/dist-packages (from matplotlib->catboost) (3.0.9)\n",
            "Requirement already satisfied: tenacity>=6.2.0 in /usr/local/lib/python3.10/dist-packages (from plotly->catboost) (8.2.2)\n",
            "Installing collected packages: catboost\n",
            "Successfully installed catboost-1.2\n"
          ]
        }
      ]
    },
    {
      "cell_type": "code",
      "source": [
        "import pandas as pd\n",
        "import numpy as np\n",
        "import datetime\n",
        "from sklearn.metrics import accuracy_score, roc_auc_score, f1_score\n",
        "import random\n",
        "import os\n",
        "from catboost import CatBoostClassifier\n",
        "from imblearn.over_sampling import ADASYN\n",
        "import pickle"
      ],
      "metadata": {
        "id": "ltxyLSJAZLQW"
      },
      "execution_count": 28,
      "outputs": []
    },
    {
      "cell_type": "markdown",
      "source": [
        "# 2. 재실인원 0 or 1 이진분류"
      ],
      "metadata": {
        "id": "1GPW4BpAgG7Y"
      }
    },
    {
      "cell_type": "markdown",
      "source": [
        "## a. Train 데이터셋"
      ],
      "metadata": {
        "id": "H769dZVbC5Xl"
      }
    },
    {
      "cell_type": "code",
      "source": [
        "# CSV 파일을 DataFrame으로 읽어오기 (인코딩 방식 지정)\n",
        "bin_train_df = pd.read_csv(train_path, encoding='cp949')\n",
        "\n",
        "#0이 아닌 컬럼은 모두 1로 변환, 이진분류를 위해서.\n",
        "bin_train_df.loc[bin_train_df['재실인원'] != 0, '재실인원'] = 1\n",
        "\n",
        "# null 값을 포함하는 행(row) 제거\n",
        "bin_train_df = bin_train_df.dropna()\n",
        "\n",
        "# 중복된 행(row) 제거\n",
        "bin_train_df = bin_train_df.drop_duplicates()\n",
        "\n",
        "# regdate 컬럼을 datetime 형식으로 변환 후 시간을 반올림하여 0~23 사이의 값으로 변환\n",
        "bin_train_df['regdate'] = pd.to_datetime(bin_train_df['regdate'], format='%Y-%m-%d %H:%M:%S')\n",
        "bin_train_df['regdate'] = bin_train_df['regdate'].apply(lambda x: (x + datetime.timedelta(minutes=30)).hour % 24)\n",
        "\n",
        "# ADASYN 오버 샘플링 적용\n",
        "adasyn = ADASYN(random_state=28,sampling_strategy='auto')\n",
        "X_oversampled, y_oversampled = adasyn.fit_resample(bin_train_df.drop('재실인원', axis=1), bin_train_df['재실인원'])\n",
        "\n",
        "# 새로운 오버샘플링된 데이터프레임 생성\n",
        "df_oversampled = pd.DataFrame(X_oversampled, columns=bin_train_df.drop('재실인원', axis=1).columns)\n",
        "df_oversampled['재실인원'] = y_oversampled\n",
        "\n",
        "bin_train_df = df_oversampled\n",
        "\n",
        "# 최종 선택된 컬럼\n",
        "selected_columns = ['temp', 'humi', 'co2', 'eco2','재실인원']\n",
        "\n",
        "# 최종 학습 데이터\n",
        "bin_train_data = bin_train_df[selected_columns]\n",
        "\n",
        "# 결과 출력\n",
        "print(bin_train_data)\n"
      ],
      "metadata": {
        "id": "Eql6MG_m_yRN",
        "colab": {
          "base_uri": "https://localhost:8080/"
        },
        "outputId": "a1270fae-1920-4af8-af88-9ae982044d5d"
      },
      "execution_count": 29,
      "outputs": [
        {
          "output_type": "stream",
          "name": "stdout",
          "text": [
            "             temp       humi         co2         eco2  재실인원\n",
            "0       21.200000  34.000000  414.000000  2845.000000     1\n",
            "1       21.200000  34.000000  411.000000  2845.000000     1\n",
            "2       21.200000  34.000000  409.000000  2845.000000     1\n",
            "3       21.200000  34.000000  409.000000  2829.000000     1\n",
            "4       21.200000  34.000000  415.000000  2829.000000     1\n",
            "...           ...        ...         ...          ...   ...\n",
            "359460  17.600000  23.000000  456.221236   801.715554     0\n",
            "359461  17.600000  23.000000  461.893297   793.000000     0\n",
            "359462  16.975784  18.917189  401.082811   486.000000     0\n",
            "359463  17.009045  18.943153  400.886306   486.000000     0\n",
            "359464  17.100000  19.000000  401.985427   481.072864     0\n",
            "\n",
            "[359465 rows x 5 columns]\n"
          ]
        }
      ]
    },
    {
      "cell_type": "markdown",
      "source": [
        "## b. Test 데이터셋"
      ],
      "metadata": {
        "id": "j8EH1ZkXC4ZH"
      }
    },
    {
      "cell_type": "code",
      "source": [
        "# CSV 파일을 DataFrame으로 읽어오기 (인코딩 방식 지정)\n",
        "bin_test_df = pd.read_csv(test_path, encoding='cp949')\n",
        "\n",
        "# 0이 아닌 컬럼은 모두 1로 변환, 이진분류를 위해서.\n",
        "bin_test_df.loc[bin_test_df['재실인원'] != 0, '재실인원'] = 1\n",
        "\n",
        "# regdate 컬럼을 datetime 형식으로 변환 후 시간을 반올림하여 0~23 사이의 값으로 변환\n",
        "bin_test_df['regdate'] = pd.to_datetime(bin_test_df['regdate'], format='%Y-%m-%d %H:%M:%S')\n",
        "bin_test_df['regdate'] = bin_test_df['regdate'].apply(lambda x: (x + datetime.timedelta(minutes=30)).hour % 24)\n",
        "\n",
        "# bin_train_data 데이터와 동일한 컬럼 사용, 최종 학습데이터\n",
        "bin_test_df = bin_test_df[bin_train_data.columns]\n",
        "\n",
        "# train_test_data에서 각 컬럼의 최빈값 계산\n",
        "mode_values = bin_train_data.mode().iloc[0]\n",
        "\n",
        "# test_test_data의 결측치를 최빈값으로 채우기\n",
        "bin_test_data = bin_test_df.fillna(mode_values)\n",
        "\n",
        "print(bin_test_data)"
      ],
      "metadata": {
        "id": "hGSZyn9X2hZK",
        "colab": {
          "base_uri": "https://localhost:8080/"
        },
        "outputId": "c7a43a15-eb76-4c52-d302-a56051f30e4e"
      },
      "execution_count": 30,
      "outputs": [
        {
          "output_type": "stream",
          "name": "stdout",
          "text": [
            "        temp  humi    co2   eco2  재실인원\n",
            "0       19.4  31.0  422.0  463.0     0\n",
            "1       19.4  31.0  418.0  473.0     0\n",
            "2       19.4  31.0  419.0  461.0     0\n",
            "3       19.4  31.0  433.0  473.0     0\n",
            "4       19.4  31.0  434.0  473.0     0\n",
            "...      ...   ...    ...    ...   ...\n",
            "84995  107.3   0.0  462.0  534.0     0\n",
            "84996  107.3   0.0  462.0  534.0     0\n",
            "84997  107.3   0.0  467.0  534.0     0\n",
            "84998  -29.7   0.0  466.0  534.0     0\n",
            "84999  107.3   0.0  476.0  534.0     0\n",
            "\n",
            "[85000 rows x 5 columns]\n"
          ]
        }
      ]
    },
    {
      "cell_type": "markdown",
      "source": [
        "## c. 모델 학습 및 저장"
      ],
      "metadata": {
        "id": "RdQB1CpHFFFt"
      }
    },
    {
      "cell_type": "code",
      "source": [
        "# 학습 데이터셋\n",
        "bin_y_train = bin_train_data['재실인원']\n",
        "bin_X_train = bin_train_data.drop('재실인원', axis=1)\n",
        "\n",
        "# 테스트 데이터셋 \n",
        "bin_y_test = bin_test_data['재실인원']\n",
        "bin_X_test = bin_test_data.drop('재실인원', axis=1)\n",
        "\n",
        "#GPU 및 기타 씨드 고정\n",
        "def my_seed_everywhere(seed: int = 42):\n",
        "    random.seed(seed) # random\n",
        "    np.random.seed(seed) # np\n",
        "    os.environ[\"PYTHONHASHSEED\"] = str(seed) # os\n",
        "\n",
        "\n",
        "my_seed = 70\n",
        "my_seed_everywhere(my_seed)\n",
        "\n",
        "\n",
        "# 이진분류 모델 파라미터\n",
        "params = {'iterations': 127, \n",
        "          'learning_rate': 0.0005941239405009986, \n",
        "          'depth': 4, \n",
        "          'border_count': 42, \n",
        "          'l2_leaf_reg': 7.849989300833608e-06, \n",
        "          'bagging_temperature': 33.75576593022031}\n",
        "\n",
        "\n",
        "#GPU를 사용한 CatBoost\n",
        "bin_model = CatBoostClassifier(\n",
        "    **params,\n",
        "    random_seed=44,\n",
        "    loss_function='Logloss',\n",
        "    eval_metric='Accuracy',\n",
        "    verbose=0,\n",
        "    task_type='GPU')\n",
        "\n",
        "\n",
        "# 모델 훈련\n",
        "bin_model.fit(bin_X_train, bin_y_train)\n",
        "\n",
        "# 예측 수행\n",
        "y_pred_prob = bin_model.predict_proba(bin_X_test)[:, 1]  # 클래스 1의 예측 확률을 가져옴\n",
        "y_pred = np.where(y_pred_prob >= 0.5, 1, 0)  # 예측 확률을 기준으로 이진 예측으로 변환\n",
        "\n",
        "# 정확도 계산\n",
        "accuracy = accuracy_score(bin_y_test, y_pred)\n",
        "print(\"Accuracy:\", accuracy)\n",
        "\n",
        "# ROC AUC 계산\n",
        "roc_auc = roc_auc_score(bin_y_test, y_pred_prob)\n",
        "print(\"ROC AUC:\", roc_auc)"
      ],
      "metadata": {
        "id": "1gJ82MJr-Nof",
        "colab": {
          "base_uri": "https://localhost:8080/"
        },
        "outputId": "03450cc2-a7cd-4279-fe45-bfc1a690a3f7"
      },
      "execution_count": 31,
      "outputs": [
        {
          "output_type": "stream",
          "name": "stdout",
          "text": [
            "Accuracy: 0.9210352941176471\n",
            "ROC AUC: 0.95920093019517\n"
          ]
        }
      ]
    },
    {
      "cell_type": "code",
      "source": [
        "# 모델 저장\n",
        "with open('bin_classifier.pkl', 'wb') as f:\n",
        "    pickle.dump(bin_model, f)"
      ],
      "metadata": {
        "id": "mtS4CD4chJ_k"
      },
      "execution_count": 32,
      "outputs": []
    },
    {
      "cell_type": "markdown",
      "source": [
        "# 3.  재실인원 1,2,3,4,5,6 분류"
      ],
      "metadata": {
        "id": "K5Podgy43rq3"
      }
    },
    {
      "cell_type": "markdown",
      "source": [
        "## a. Train 데이터셋"
      ],
      "metadata": {
        "id": "5xHBzzi634ku"
      }
    },
    {
      "cell_type": "code",
      "source": [
        "# CSV 파일을 DataFrame으로 읽어오기 (인코딩 방식 지정)\n",
        "mul_train_df = pd.read_csv(train_path, encoding='cp949')\n",
        "\n",
        "# null 값을 포함하는 행(row) 제거\n",
        "mul_train_df = mul_train_df.dropna()\n",
        "\n",
        "# 중복된 행(row) 제거\n",
        "mul_train_df = mul_train_df.drop_duplicates()\n",
        "\n",
        "# regdate 컬럼을 datetime 형식으로 변환 후 시간을 반올림하여 0~23 사이의 값으로 변환\n",
        "mul_train_df['regdate'] = pd.to_datetime(mul_train_df['regdate'], format='%Y-%m-%d %H:%M:%S')\n",
        "mul_train_df['regdate'] = mul_train_df['regdate'].apply(lambda x: (x + datetime.timedelta(minutes=30)).hour % 24)\n",
        "\n",
        "# 클래스 5,6 추출\n",
        "df_class5 = mul_train_df[mul_train_df['재실인원'] == 5]\n",
        "df_class6 = mul_train_df[mul_train_df['재실인원'] == 6]\n",
        "\n",
        "# 클래스 5,6 하나의 DataFrame에 모두 저장\n",
        "df_combined = pd.concat([df_class5, df_class6], ignore_index=True)\n",
        "\n",
        "# 재실인원이 0,1,2,3,4인 데이터만 남김\n",
        "mul_train_df = mul_train_df[mul_train_df['재실인원'].isin([0,1,2,3,4])]\n",
        "\n",
        "# ADASYN 오버샘플링 적용(0,1,2,3,4만 적용)\n",
        "adasyn = ADASYN(random_state=28,sampling_strategy='all')\n",
        "X_oversampled, y_oversampled = adasyn.fit_resample(mul_train_df.drop('재실인원', axis=1), mul_train_df['재실인원'])\n",
        "\n",
        "# 새로운 오버샘플링된 데이터프레임 생성\n",
        "df_oversampled = pd.DataFrame(X_oversampled, columns=mul_train_df.drop('재실인원', axis=1).columns)\n",
        "df_oversampled['재실인원'] = y_oversampled\n",
        "\n",
        "# 오버샘플링된 데이터프레임을 df로 명명\n",
        "mul_train_df = df_oversampled\n",
        "\n",
        "# 재실인원이 1,2,3,4인 데이터만 남기기(0인 데이터들 버리기)\n",
        "mul_train_df = mul_train_df[mul_train_df['재실인원'].isin([1,2,3,4])]\n",
        "\n",
        "# 앞서 저장했던 데이터프레임과 결합하여 재실인원이 1,2,3,4,5,6 인 데이터만 남기기\n",
        "mul_train_df = pd.concat([mul_train_df,df_combined], ignore_index=True)\n",
        "\n",
        "#최종 선택 컬럼\n",
        "selected_columns = ['temp', \n",
        "                    'co2', \n",
        "                    '재실인원']\n",
        "\n",
        "#최종 학습 데이터\n",
        "mul_train_data = mul_train_df[selected_columns]\n",
        "\n",
        "# 결과 출력\n",
        "print(mul_train_data)"
      ],
      "metadata": {
        "id": "MsItraAW37we",
        "colab": {
          "base_uri": "https://localhost:8080/"
        },
        "outputId": "b3d04c82-f725-43d9-adfe-00b3a827ace7"
      },
      "execution_count": 33,
      "outputs": [
        {
          "output_type": "stream",
          "name": "stdout",
          "text": [
            "        temp     co2  재실인원\n",
            "0       21.2   414.0     1\n",
            "1       21.2   411.0     1\n",
            "2       21.2   409.0     1\n",
            "3       21.2   409.0     1\n",
            "4       21.2   415.0     1\n",
            "...      ...     ...   ...\n",
            "518571  21.8   907.0     6\n",
            "518572  22.0  1013.0     6\n",
            "518573  22.1  1027.0     6\n",
            "518574  22.1  1055.0     6\n",
            "518575  22.1  1034.0     6\n",
            "\n",
            "[518576 rows x 3 columns]\n"
          ]
        }
      ]
    },
    {
      "cell_type": "markdown",
      "source": [
        "## b. Test 데이터셋"
      ],
      "metadata": {
        "id": "QMBu_INf4SUZ"
      }
    },
    {
      "cell_type": "code",
      "source": [
        "# CSV 파일을 DataFrame으로 읽어오기 (인코딩 방식 지정)\n",
        "mul_test_df = pd.read_csv(test_path, encoding='cp949')\n",
        "\n",
        "# regdate 컬럼을 datetime 형식으로 변환 후 시간을 반올림하여 0~23 사이의 값으로 변환\n",
        "mul_test_df['regdate'] = pd.to_datetime(mul_test_df['regdate'], format='%Y-%m-%d %H:%M:%S')\n",
        "mul_test_df['regdate'] = mul_test_df['regdate'].apply(lambda x: (x + datetime.timedelta(minutes=30)).hour % 24)\n",
        "\n",
        "# 학습 데이터와 동일한 컬럼을 가짐, 최종 테스트 데이터\n",
        "mul_test_df = mul_test_df[mul_train_data.columns]\n",
        "\n",
        "# 학습 데이터에서 각 컬럼의 최빈값 계산\n",
        "mode_values = mul_train_data.mode().iloc[0]\n",
        "\n",
        "# 테스트 데이터의 결측치를 학습 데이터의 최빈값으로 채우기\n",
        "mul_test_data = mul_test_df.fillna(mode_values)\n",
        "\n",
        "# 결과 출력\n",
        "print(mul_test_data)"
      ],
      "metadata": {
        "id": "DhZW5MGE4Uev",
        "colab": {
          "base_uri": "https://localhost:8080/"
        },
        "outputId": "756a6632-a5ea-404b-ac40-234b3374044d"
      },
      "execution_count": 34,
      "outputs": [
        {
          "output_type": "stream",
          "name": "stdout",
          "text": [
            "        temp    co2  재실인원\n",
            "0       19.4  422.0     0\n",
            "1       19.4  418.0     0\n",
            "2       19.4  419.0     0\n",
            "3       19.4  433.0     0\n",
            "4       19.4  434.0     0\n",
            "...      ...    ...   ...\n",
            "84995  107.3  462.0     0\n",
            "84996  107.3  462.0     0\n",
            "84997  107.3  467.0     0\n",
            "84998  -29.7  466.0     0\n",
            "84999  107.3  476.0     0\n",
            "\n",
            "[85000 rows x 3 columns]\n"
          ]
        }
      ]
    },
    {
      "cell_type": "markdown",
      "source": [
        "## c. 모델 학습 및 저장"
      ],
      "metadata": {
        "id": "VyRq57Ev4hvG"
      }
    },
    {
      "cell_type": "code",
      "source": [
        "# 학습 데이터셋\n",
        "mul_y_train = mul_train_data['재실인원']\n",
        "mul_X_train = mul_train_data.drop('재실인원', axis=1)\n",
        "\n",
        "\n",
        "# 테스트 데이터셋\n",
        "mul_y_test = mul_test_data['재실인원']\n",
        "mul_X_test = mul_test_data.drop('재실인원', axis=1)\n",
        "\n",
        "\n",
        "#optuna를 통해 얻은 파라미터\n",
        "best_params = {'iterations': 623, \n",
        "               'learning_rate': 0.04515702617353955, \n",
        "               'depth': 4, 'border_count': 116, \n",
        "               'l2_leaf_reg': 0.00013388785139921037, \n",
        "               'bagging_temperature': 0.014332596608738344}\n",
        "\n",
        "\n",
        "#모델\n",
        "mul_model = CatBoostClassifier(task_type='GPU', \n",
        "                           random_state=26, \n",
        "                           loss_function='MultiClass', \n",
        "                           verbose=0, \n",
        "                           **best_params)\n",
        "\n",
        "#모델 학습\n",
        "mul_model.fit(mul_X_train, mul_y_train)\n",
        "\n",
        "# 테스트 데이터셋에서 예측값 생성(1,2,3,4)\n",
        "y_pred_temp = mul_model.predict(mul_X_test)\n",
        "y_pred_temp = np.ravel(y_pred_temp)\n",
        "\n",
        "# 최종 병합\n",
        "# 앞서 0과 1로 이진분류한 결과를 복사\n",
        "y_fin = np.copy(y_pred)\n",
        "\n",
        "# 1로 분류된 데이터들만 새롭게 분류된 결과로 대체\n",
        "y_fin[y_fin == 1] = y_pred_temp[y_fin == 1]\n",
        "\n",
        "\n",
        "# 예측 결과 평가\n",
        "# 정확도 계산\n",
        "accuracy = accuracy_score(mul_y_test, y_fin)\n",
        "\n",
        "# macro-F1 점수 계산\n",
        "macro_f1 = f1_score(mul_y_test, y_fin, average='macro')\n",
        "\n",
        "# weighted-F1 점수 계산\n",
        "weighted_f1 = f1_score(mul_y_test, y_fin, average='weighted')\n",
        "\n",
        "# 최종 결과 출력\n",
        "print(\"=================================\")\n",
        "print()\n",
        "print('Accuracy:', accuracy)\n",
        "print('Macro-F1:', macro_f1)\n",
        "print('Weighted-F1:', weighted_f1)\n",
        "print()\n",
        "print(\"=================================\")"
      ],
      "metadata": {
        "id": "_9pMgpgr4k4C",
        "colab": {
          "base_uri": "https://localhost:8080/"
        },
        "outputId": "6060d836-dfa2-4181-dd62-92ec240ad1c6"
      },
      "execution_count": 35,
      "outputs": [
        {
          "output_type": "stream",
          "name": "stdout",
          "text": [
            "=================================\n",
            "\n",
            "Accuracy: 0.7920235294117647\n",
            "Macro-F1: 0.4693548497958332\n",
            "Weighted-F1: 0.7964153722883529\n",
            "\n",
            "=================================\n"
          ]
        }
      ]
    },
    {
      "cell_type": "code",
      "source": [
        "# 모델 저장\n",
        "with open('multi_classifier.pkl', 'wb') as f:\n",
        "    pickle.dump(mul_model, f)"
      ],
      "metadata": {
        "id": "PIixJKKrhF9G"
      },
      "execution_count": 36,
      "outputs": []
    },
    {
      "cell_type": "markdown",
      "source": [
        "# 4. 최종 결과 출력"
      ],
      "metadata": {
        "id": "w4PJ74pdoxvm"
      }
    },
    {
      "cell_type": "code",
      "source": [
        "# 결과 출력\n",
        "print(\"=================================\")\n",
        "print()\n",
        "print('Accuracy:', accuracy)\n",
        "print('Macro-F1:', macro_f1)\n",
        "print('Weighted-F1:', weighted_f1)\n",
        "print()\n",
        "print(\"=================================\")"
      ],
      "metadata": {
        "colab": {
          "base_uri": "https://localhost:8080/"
        },
        "id": "_5nFAXBqo0ri",
        "outputId": "42c644f0-9c4e-43c8-b16a-e291dd1f8d5a"
      },
      "execution_count": 37,
      "outputs": [
        {
          "output_type": "stream",
          "name": "stdout",
          "text": [
            "=================================\n",
            "\n",
            "Accuracy: 0.7920235294117647\n",
            "Macro-F1: 0.4693548497958332\n",
            "Weighted-F1: 0.7964153722883529\n",
            "\n",
            "=================================\n"
          ]
        }
      ]
    }
  ]
}